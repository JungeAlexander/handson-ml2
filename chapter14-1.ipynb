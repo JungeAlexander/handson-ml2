{
 "cells": [
  {
   "cell_type": "markdown",
   "id": "d9b81638-900b-426b-8e07-6253689e19c1",
   "metadata": {},
   "source": [
    "# Chapter 14. Deep Computer Vision Using Convolutional Neural Networks\n",
    "\n",
    "See https://github.com/ageron/handson-ml2/blob/master/14_deep_computer_vision_with_cnns.ipynb"
   ]
  },
  {
   "cell_type": "markdown",
   "id": "de5cfaaf-01f4-4ab1-836b-aab129ed8b11",
   "metadata": {},
   "source": [
    "## Exercise 9 "
   ]
  },
  {
   "cell_type": "code",
   "execution_count": 1,
   "id": "2bf1e8d6-2051-4bf1-8848-52f4f8f36a5e",
   "metadata": {},
   "outputs": [],
   "source": [
    "import numpy as np\n",
    "import tensorflow as tf\n",
    "from tensorflow import keras"
   ]
  },
  {
   "cell_type": "code",
   "execution_count": 2,
   "id": "7720fb5a-d5de-4f7c-8a5f-42762be23cd9",
   "metadata": {},
   "outputs": [],
   "source": [
    "(X_train_full, y_train_full), (X_test, y_test) = keras.datasets.mnist.load_data()"
   ]
  },
  {
   "cell_type": "code",
   "execution_count": 5,
   "id": "99f74ccf-bea2-4df0-92da-b2135bd16ba9",
   "metadata": {},
   "outputs": [],
   "source": [
    "X_train_full = X_train_full / 255.0\n",
    "X_test = X_test/ 255.0"
   ]
  },
  {
   "cell_type": "code",
   "execution_count": 6,
   "id": "864a3082-3b1d-4157-bc6d-958592cf8ada",
   "metadata": {},
   "outputs": [],
   "source": [
    "X_train, X_valid = X_train_full[:-5000], X_train_full[-5000:]\n",
    "y_train, y_valid = y_train_full[:-5000], y_train_full[-5000:]"
   ]
  },
  {
   "cell_type": "code",
   "execution_count": 7,
   "id": "f2d82ed3-5fb6-467d-ad91-379f220ab512",
   "metadata": {},
   "outputs": [
    {
     "data": {
      "text/plain": [
       "(55000, 28, 28)"
      ]
     },
     "execution_count": 7,
     "metadata": {},
     "output_type": "execute_result"
    }
   ],
   "source": [
    "X_train.shape"
   ]
  },
  {
   "cell_type": "code",
   "execution_count": 8,
   "id": "5e8072c0-4f3c-4a7a-b741-f7ae5be3ac48",
   "metadata": {},
   "outputs": [],
   "source": [
    "X_train = X_train[..., np.newaxis]\n",
    "X_valid = X_valid[..., np.newaxis]\n",
    "X_test = X_test[..., np.newaxis]"
   ]
  },
  {
   "cell_type": "code",
   "execution_count": 9,
   "id": "1e61380d-1eb3-41d3-9183-630b895934a0",
   "metadata": {},
   "outputs": [
    {
     "data": {
      "text/plain": [
       "(55000, 28, 28, 1)"
      ]
     },
     "execution_count": 9,
     "metadata": {},
     "output_type": "execute_result"
    }
   ],
   "source": [
    "X_train.shape"
   ]
  },
  {
   "cell_type": "code",
   "execution_count": 10,
   "id": "ef28afd1-6410-41d2-908d-35df3bf180e9",
   "metadata": {},
   "outputs": [],
   "source": [
    "keras.backend.clear_session()\n",
    "tf.random.set_seed(42)\n",
    "np.random.seed(42)"
   ]
  },
  {
   "cell_type": "code",
   "execution_count": 11,
   "id": "7ac0e952-fb75-443a-adb0-2a5e85d9dfee",
   "metadata": {},
   "outputs": [
    {
     "name": "stderr",
     "output_type": "stream",
     "text": [
      "2022-01-18 07:53:23.947453: I tensorflow/core/platform/cpu_feature_guard.cc:151] This TensorFlow binary is optimized with oneAPI Deep Neural Network Library (oneDNN) to use the following CPU instructions in performance-critical operations:  AVX2 FMA\n",
      "To enable them in other operations, rebuild TensorFlow with the appropriate compiler flags.\n"
     ]
    }
   ],
   "source": [
    "model = keras.models.Sequential([\n",
    "    keras.layers.Conv2D(32, kernel_size=3, padding=\"same\", activation=\"relu\"),\n",
    "    keras.layers.Conv2D(64, kernel_size=3, padding=\"same\", activation=\"relu\"),\n",
    "    keras.layers.MaxPool2D(),\n",
    "    keras.layers.Flatten(),\n",
    "    keras.layers.Dropout(0.25),\n",
    "    keras.layers.Dense(128, activation=\"relu\"),\n",
    "    keras.layers.Dropout(0.5),\n",
    "    keras.layers.Dense(10, activation=\"softmax\")\n",
    "])\n",
    "model.compile(loss=\"sparse_categorical_crossentropy\", optimizer=\"nadam\",\n",
    "              metrics=[\"accuracy\"])"
   ]
  },
  {
   "cell_type": "code",
   "execution_count": 12,
   "id": "887d6061-bfa4-4300-99bc-78aa600805d2",
   "metadata": {},
   "outputs": [
    {
     "name": "stdout",
     "output_type": "stream",
     "text": [
      "Epoch 1/10\n",
      "1719/1719 [==============================] - 84s 49ms/step - loss: 0.1968 - accuracy: 0.9406 - val_loss: 0.0431 - val_accuracy: 0.9894\n",
      "Epoch 2/10\n",
      "1719/1719 [==============================] - 94s 55ms/step - loss: 0.0782 - accuracy: 0.9765 - val_loss: 0.0491 - val_accuracy: 0.9866\n",
      "Epoch 3/10\n",
      "1719/1719 [==============================] - 87s 50ms/step - loss: 0.0610 - accuracy: 0.9806 - val_loss: 0.0367 - val_accuracy: 0.9912\n",
      "Epoch 4/10\n",
      "1719/1719 [==============================] - 84s 49ms/step - loss: 0.0503 - accuracy: 0.9845 - val_loss: 0.0345 - val_accuracy: 0.9920\n",
      "Epoch 5/10\n",
      "1719/1719 [==============================] - 85s 50ms/step - loss: 0.0422 - accuracy: 0.9871 - val_loss: 0.0378 - val_accuracy: 0.9902\n",
      "Epoch 6/10\n",
      "1719/1719 [==============================] - 81s 47ms/step - loss: 0.0370 - accuracy: 0.9885 - val_loss: 0.0416 - val_accuracy: 0.9902\n",
      "Epoch 7/10\n",
      "1719/1719 [==============================] - 90s 52ms/step - loss: 0.0323 - accuracy: 0.9901 - val_loss: 0.0344 - val_accuracy: 0.9916\n",
      "Epoch 8/10\n",
      "1719/1719 [==============================] - 87s 50ms/step - loss: 0.0291 - accuracy: 0.9906 - val_loss: 0.0354 - val_accuracy: 0.9924\n",
      "Epoch 9/10\n",
      "1719/1719 [==============================] - 88s 51ms/step - loss: 0.0266 - accuracy: 0.9914 - val_loss: 0.0388 - val_accuracy: 0.9918\n",
      "Epoch 10/10\n",
      "1719/1719 [==============================] - 86s 50ms/step - loss: 0.0246 - accuracy: 0.9921 - val_loss: 0.0396 - val_accuracy: 0.9916\n"
     ]
    },
    {
     "data": {
      "text/plain": [
       "<keras.callbacks.History at 0x13491a5d0>"
      ]
     },
     "execution_count": 12,
     "metadata": {},
     "output_type": "execute_result"
    }
   ],
   "source": [
    "model.fit(X_train, y_train, epochs=10, validation_data=(X_valid, y_valid))"
   ]
  },
  {
   "cell_type": "code",
   "execution_count": 13,
   "id": "ad18bb65-8745-4a09-b477-05533839b99f",
   "metadata": {},
   "outputs": [
    {
     "name": "stdout",
     "output_type": "stream",
     "text": [
      "313/313 [==============================] - 2s 6ms/step - loss: 0.0292 - accuracy: 0.9921\n"
     ]
    },
    {
     "data": {
      "text/plain": [
       "[0.029155423864722252, 0.9921000003814697]"
      ]
     },
     "execution_count": 13,
     "metadata": {},
     "output_type": "execute_result"
    }
   ],
   "source": [
    "model.evaluate(X_test, y_test)"
   ]
  }
 ],
 "metadata": {
  "kernelspec": {
   "display_name": "Python 3 (ipykernel)",
   "language": "python",
   "name": "python3"
  },
  "language_info": {
   "codemirror_mode": {
    "name": "ipython",
    "version": 3
   },
   "file_extension": ".py",
   "mimetype": "text/x-python",
   "name": "python",
   "nbconvert_exporter": "python",
   "pygments_lexer": "ipython3",
   "version": "3.7.12"
  }
 },
 "nbformat": 4,
 "nbformat_minor": 5
}
