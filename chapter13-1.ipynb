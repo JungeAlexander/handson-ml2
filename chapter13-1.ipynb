{
 "cells": [
  {
   "cell_type": "markdown",
   "id": "5f369749-62b0-4e09-a431-7ed18b520708",
   "metadata": {},
   "source": [
    "# Chapter 13. Loading and Preprocessing Data with TensorFlow"
   ]
  },
  {
   "cell_type": "code",
   "execution_count": null,
   "id": "274b58aa-c73d-478f-8d8a-86a61999fe5b",
   "metadata": {},
   "outputs": [],
   "source": []
  }
 ],
 "metadata": {
  "kernelspec": {
   "display_name": "Python 3 (ipykernel)",
   "language": "python",
   "name": "python3"
  },
  "language_info": {
   "codemirror_mode": {
    "name": "ipython",
    "version": 3
   },
   "file_extension": ".py",
   "mimetype": "text/x-python",
   "name": "python",
   "nbconvert_exporter": "python",
   "pygments_lexer": "ipython3",
   "version": "3.7.12"
  }
 },
 "nbformat": 4,
 "nbformat_minor": 5
}
