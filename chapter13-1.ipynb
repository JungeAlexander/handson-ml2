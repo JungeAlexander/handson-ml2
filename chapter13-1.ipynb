{
 "cells": [
  {
   "cell_type": "markdown",
   "id": "5f369749-62b0-4e09-a431-7ed18b520708",
   "metadata": {},
   "source": [
    "# Chapter 13. Loading and Preprocessing Data with TensorFlow"
   ]
  },
  {
   "cell_type": "markdown",
   "id": "10de36f7-4196-41d0-a78f-cbe3ecfd4f13",
   "metadata": {},
   "source": [
    "See https://github.com/ageron/handson-ml2/blob/master/13_loading_and_preprocessing_data.ipynb"
   ]
  }
 ],
 "metadata": {
  "kernelspec": {
   "display_name": "Python 3 (ipykernel)",
   "language": "python",
   "name": "python3"
  },
  "language_info": {
   "codemirror_mode": {
    "name": "ipython",
    "version": 3
   },
   "file_extension": ".py",
   "mimetype": "text/x-python",
   "name": "python",
   "nbconvert_exporter": "python",
   "pygments_lexer": "ipython3",
   "version": "3.7.12"
  }
 },
 "nbformat": 4,
 "nbformat_minor": 5
}
